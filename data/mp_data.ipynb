{
  "nbformat": 4,
  "nbformat_minor": 0,
  "metadata": {
    "colab": {
      "name": "mp_data.ipynb",
      "provenance": [],
      "authorship_tag": "ABX9TyPmH16aME27K7JO1ujGCCR6",
      "include_colab_link": true
    },
    "kernelspec": {
      "name": "python3",
      "display_name": "Python 3"
    },
    "language_info": {
      "name": "python"
    }
  },
  "cells": [
    {
      "cell_type": "markdown",
      "metadata": {
        "id": "view-in-github",
        "colab_type": "text"
      },
      "source": [
        "<a href=\"https://colab.research.google.com/github/vo-h/Melting-Point-Prediction/blob/main/data/mp_data.ipynb\" target=\"_parent\"><img src=\"https://colab.research.google.com/assets/colab-badge.svg\" alt=\"Open In Colab\"/></a>"
      ]
    },
    {
      "cell_type": "code",
      "metadata": {
        "colab": {
          "base_uri": "https://localhost:8080/"
        },
        "id": "M3K933wINTEZ",
        "outputId": "819c627d-56ca-4616-cc3e-cbdd55201ffa"
      },
      "source": [
        "!pip install rdkit-pypi\n",
        "\n",
        "import pandas as pd\n",
        "import os\n",
        "import pickle\n",
        "from rdkit import Chem\n",
        "\n",
        "from google.colab import drive\n",
        "drive.mount('/content/gdrive')"
      ],
      "execution_count": 12,
      "outputs": [
        {
          "output_type": "stream",
          "name": "stdout",
          "text": [
            "Requirement already satisfied: rdkit-pypi in /usr/local/lib/python3.7/dist-packages (2021.3.5.1)\n",
            "Requirement already satisfied: numpy>=1.19 in /usr/local/lib/python3.7/dist-packages (from rdkit-pypi) (1.19.5)\n",
            "Drive already mounted at /content/gdrive; to attempt to forcibly remount, call drive.mount(\"/content/gdrive\", force_remount=True).\n"
          ]
        }
      ]
    },
    {
      "cell_type": "markdown",
      "metadata": {
        "id": "uYS4_g80PwJx"
      },
      "source": [
        " # Assemble Data"
      ]
    },
    {
      "cell_type": "markdown",
      "metadata": {
        "id": "tyXMWduNPym4"
      },
      "source": [
        "raw.csv was provided by pubchem via this [link](https://pubchem.ncbi.nlm.nih.gov/#input_type=list&query=lNMyv4L050jQYuV7ZwOsVKhIUyiW-PVaj3_uFpRu_BeUd8A&collection=compound&alias=PubChem%3A%20PubChem%20Compound%20TOC%3A%20Melting%20Point&page=1741). To better understand the columns that I chose, please refer to [pubhcem's glossary](https://pubchemdocs.ncbi.nlm.nih.gov/glossary)."
      ]
    },
    {
      "cell_type": "code",
      "metadata": {
        "colab": {
          "base_uri": "https://localhost:8080/",
          "height": 206
        },
        "id": "Ql9YPvKtPWqq",
        "outputId": "0f092c63-16b2-40a9-ff98-2006711da168"
      },
      "source": [
        "data = pd.read_csv('/content/gdrive/MyDrive/Data/mp/raw.csv')\n",
        "data = data[['cid', 'isosmiles', 'mw', 'polararea', 'complexity', 'heavycnt', 'hbonddonor', 'hbondacc', 'rotbonds']]\n",
        "data.head()"
      ],
      "execution_count": 2,
      "outputs": [
        {
          "output_type": "execute_result",
          "data": {
            "text/html": [
              "<div>\n",
              "<style scoped>\n",
              "    .dataframe tbody tr th:only-of-type {\n",
              "        vertical-align: middle;\n",
              "    }\n",
              "\n",
              "    .dataframe tbody tr th {\n",
              "        vertical-align: top;\n",
              "    }\n",
              "\n",
              "    .dataframe thead th {\n",
              "        text-align: right;\n",
              "    }\n",
              "</style>\n",
              "<table border=\"1\" class=\"dataframe\">\n",
              "  <thead>\n",
              "    <tr style=\"text-align: right;\">\n",
              "      <th></th>\n",
              "      <th>cid</th>\n",
              "      <th>isosmiles</th>\n",
              "      <th>mw</th>\n",
              "      <th>polararea</th>\n",
              "      <th>complexity</th>\n",
              "      <th>heavycnt</th>\n",
              "      <th>hbonddonor</th>\n",
              "      <th>hbondacc</th>\n",
              "      <th>rotbonds</th>\n",
              "    </tr>\n",
              "  </thead>\n",
              "  <tbody>\n",
              "    <tr>\n",
              "      <th>0</th>\n",
              "      <td>4</td>\n",
              "      <td>CC(CN)O</td>\n",
              "      <td>75.11</td>\n",
              "      <td>46.2</td>\n",
              "      <td>22.9</td>\n",
              "      <td>5</td>\n",
              "      <td>2</td>\n",
              "      <td>2</td>\n",
              "      <td>1</td>\n",
              "    </tr>\n",
              "    <tr>\n",
              "      <th>1</th>\n",
              "      <td>6</td>\n",
              "      <td>C1=CC(=C(C=C1[N+](=O)[O-])[N+](=O)[O-])Cl</td>\n",
              "      <td>202.55</td>\n",
              "      <td>91.6</td>\n",
              "      <td>224.0</td>\n",
              "      <td>13</td>\n",
              "      <td>0</td>\n",
              "      <td>4</td>\n",
              "      <td>0</td>\n",
              "    </tr>\n",
              "    <tr>\n",
              "      <th>2</th>\n",
              "      <td>11</td>\n",
              "      <td>C(CCl)Cl</td>\n",
              "      <td>98.96</td>\n",
              "      <td>0.0</td>\n",
              "      <td>6.0</td>\n",
              "      <td>4</td>\n",
              "      <td>0</td>\n",
              "      <td>0</td>\n",
              "      <td>1</td>\n",
              "    </tr>\n",
              "    <tr>\n",
              "      <th>3</th>\n",
              "      <td>13</td>\n",
              "      <td>C1=CC(=C(C=C1Cl)Cl)Cl</td>\n",
              "      <td>181.40</td>\n",
              "      <td>0.0</td>\n",
              "      <td>94.3</td>\n",
              "      <td>9</td>\n",
              "      <td>0</td>\n",
              "      <td>0</td>\n",
              "      <td>0</td>\n",
              "    </tr>\n",
              "    <tr>\n",
              "      <th>4</th>\n",
              "      <td>19</td>\n",
              "      <td>C1=CC(=C(C(=C1)O)O)C(=O)O</td>\n",
              "      <td>154.12</td>\n",
              "      <td>77.8</td>\n",
              "      <td>157.0</td>\n",
              "      <td>11</td>\n",
              "      <td>3</td>\n",
              "      <td>4</td>\n",
              "      <td>1</td>\n",
              "    </tr>\n",
              "  </tbody>\n",
              "</table>\n",
              "</div>"
            ],
            "text/plain": [
              "   cid                                  isosmiles  ...  hbondacc  rotbonds\n",
              "0    4                                    CC(CN)O  ...         2         1\n",
              "1    6  C1=CC(=C(C=C1[N+](=O)[O-])[N+](=O)[O-])Cl  ...         4         0\n",
              "2   11                                   C(CCl)Cl  ...         0         1\n",
              "3   13                      C1=CC(=C(C=C1Cl)Cl)Cl  ...         0         0\n",
              "4   19                  C1=CC(=C(C(=C1)O)O)C(=O)O  ...         4         1\n",
              "\n",
              "[5 rows x 9 columns]"
            ]
          },
          "metadata": {},
          "execution_count": 2
        }
      ]
    },
    {
      "cell_type": "markdown",
      "metadata": {
        "id": "uCRXyLIvP43Q"
      },
      "source": [
        "## Download Melting Point\n",
        "\n",
        "Check to see if melting points have been collected (in mp.pkl). If not, collect the data. To see how, see this [article](https://towardsdatascience.com/how-to-programmatically-obtain-chemical-data-from-pubchem-59762810eb1) I wrote about interacting with PubChem programmatically. The resulting file is too large to include on GitHub."
      ]
    },
    {
      "cell_type": "code",
      "metadata": {
        "id": "jImxL8b9P4da"
      },
      "source": [
        "if not os.path.exists('/content/gdrive/MyDrive/Data/mp/mp.pkl'):\n",
        "  sys.setrecursionlimit(10**6)\n",
        "  melting_point = {}\n",
        "  for ind, row in data.iterrows():\n",
        "    mp = requests.get(f\"https://pubchem.ncbi.nlm.nih.gov/rest/pug_view/data/compound/{row['cid']}/xml?heading=Melting+Point\")\n",
        "    mp = BeautifulSoup(mp.content, \"html.parser\")\n",
        "    mp = mp.find_all('string')\n",
        "    melting_point[row['cid']] = mp\n",
        "    if ind % 100 == 0:\n",
        "      print(f'Done with {ind + 1}/{len(data)}')\n",
        "  with open(\"/content/gdrive/MyDrive/Data/mp/mp.pkl\", \"wb\") as mp_file:\n",
        "    pickle.dump(melting_point, mp_file, protocol=pickle.HIGHEST_PROTOCOL)\n",
        "else:\n",
        "  with open(\"/content/gdrive/MyDrive/Data/mp/mp.pkl\", \"rb\") as mp_file:\n",
        "    melting_point = pickle.load(mp_file)"
      ],
      "execution_count": 8,
      "outputs": []
    },
    {
      "cell_type": "markdown",
      "metadata": {
        "id": "NyPTj0hFTIJP"
      },
      "source": [
        "# Clean Data\n",
        "\n",
        "The melting point data is quite messy. For example, there are multiple reports for a single compound. The units don't agree. And there are annotations as well. Here's my strategy:\n",
        "* Since the dataset is so large, I'm going to ignore any entry that has annotations. These annotations might be along the lines of \"it's not pure\" or instead of the number, the author gives a range (which might also mean the compound is not pure), etc..\n",
        "* Then, for those that have different units, I'm going to separate them into farenheit and celcius. Then I convert farenheit to celcius, and if the converted value agrees within 0.5 degrees (to account for numerical errors & human errors when data was recorded), I record the celcius value.\n",
        "* Finally, even within the same temperature scale, the reported data don't agree. So, any compound that has melting temperatures with a spread beyond a given tolerance degrees are discarded."
      ]
    },
    {
      "cell_type": "code",
      "metadata": {
        "id": "vJmya60OTH5o"
      },
      "source": [
        "def f_to_c(f):\n",
        "  return round((f - 32)*5/9, 2)\n",
        "\n",
        "if not os.path.exists('/content/gdrive/MyDrive/Data/mp/clean.csv'):\n",
        "  data['mp'] = None\n",
        "\n",
        "  # discard data with spread beyond this tolerance level\n",
        "  tolerance = 1\n",
        "\n",
        "  for key in melting_point:\n",
        "    # Get index to later input data\n",
        "    index = data[data['cid'] == key].index\n",
        "  \n",
        "    # Get all the melting points of a compound\n",
        "    values = melting_point[key]\n",
        "\n",
        "    farenheit = []\n",
        "    celcius = []\n",
        "\n",
        "    # Get strings that have farenheit/celcius and ignore those with annotations\n",
        "    for value in values:\n",
        "      temp = value.get_text()\n",
        "      if bool(re.search(\"^[\\-|0-9][0-9]*[.]?[0-9]*[ ]*[u'\\N{DEGREE SIGN}'][F ]$\", temp)):\n",
        "\n",
        "        temp = temp.split(u'\\N{DEGREE SIGN}')[0].strip()\n",
        "        farenheit.append(float(temp))\n",
        "\n",
        "      elif bool(re.search(\"^[\\-|0-9][0-9]*[.]?[0-9]*[ ]*[u'\\N{DEGREE SIGN}'][C ]$\", temp)):\n",
        "\n",
        "        temp = temp.split(u'\\N{DEGREE SIGN}')[0].strip()\n",
        "        celcius.append(float(temp))\n",
        "  \n",
        "    # Situation 1: reports with both T scale\n",
        "    if farenheit and celcius:\n",
        "      if np.std(farenheit) < tolerance and np.std(celcius) < tolerance:\n",
        "        if abs(f_to_c(np.mean(farenheit)) - np.mean(celcius)) < 1:\n",
        "        \n",
        "          data.loc[index, 'mp'] = round(np.mean(celcius), 2)\n",
        "\n",
        "    # Situation 2: reports with only farenheit\n",
        "    elif farenheit and not celcius:\n",
        "      if np.std(farenheit) < tolerance:\n",
        "      \n",
        "        data.loc[index, 'mp'] = f_to_c(np.mean(farenheit))\n",
        "  \n",
        "    # Situation 3: reports with only celcius\n",
        "    elif celcius and not farenheit:\n",
        "      if np.std(celcius) < tolerance:\n",
        "\n",
        "        data.loc[index, 'mp'] = round(np.mean(celcius), 2)\n",
        "\n",
        "  data = data.dropna().reset_index(drop=True)\n",
        "  data['mp'] = data['mp'].astype('float64')\n",
        "  data.to_csv('/content/gdrive/MyDrive/Data/mp/clean.csv', index=False)\n",
        "else:\n",
        "  data = pd.read_csv('/content/gdrive/MyDrive/Data/mp/clean.csv')"
      ],
      "execution_count": 9,
      "outputs": []
    },
    {
      "cell_type": "markdown",
      "metadata": {
        "id": "NOG7ForcTjCs"
      },
      "source": [
        "## Remove Inorganic Molecules"
      ]
    },
    {
      "cell_type": "code",
      "metadata": {
        "colab": {
          "base_uri": "https://localhost:8080/",
          "height": 300
        },
        "id": "bGxIzQJZTnoD",
        "outputId": "ff92b41d-a526-4212-a1f4-2d1b229710e4"
      },
      "source": [
        "idx = []\n",
        "for ind, row in data.iterrows():\n",
        "  molecule = Chem.MolFromSmiles(data.loc[ind, 'isosmiles'])\n",
        "  try:\n",
        "    for atom in molecule.GetAtoms():\n",
        "      atomic_num = atom.GetAtomicNum()\n",
        "      if atomic_num not in [1, 6, 7, 8, 17, 35, 53]:\n",
        "        idx.append(ind)\n",
        "        break\n",
        "  except:\n",
        "    idx.append(ind)\n",
        "\n",
        "data = data.drop(index=idx).reset_index(drop=True)\n",
        "data.describe()"
      ],
      "execution_count": 13,
      "outputs": [
        {
          "output_type": "execute_result",
          "data": {
            "text/html": [
              "<div>\n",
              "<style scoped>\n",
              "    .dataframe tbody tr th:only-of-type {\n",
              "        vertical-align: middle;\n",
              "    }\n",
              "\n",
              "    .dataframe tbody tr th {\n",
              "        vertical-align: top;\n",
              "    }\n",
              "\n",
              "    .dataframe thead th {\n",
              "        text-align: right;\n",
              "    }\n",
              "</style>\n",
              "<table border=\"1\" class=\"dataframe\">\n",
              "  <thead>\n",
              "    <tr style=\"text-align: right;\">\n",
              "      <th></th>\n",
              "      <th>cid</th>\n",
              "      <th>mw</th>\n",
              "      <th>polararea</th>\n",
              "      <th>complexity</th>\n",
              "      <th>heavycnt</th>\n",
              "      <th>hbonddonor</th>\n",
              "      <th>hbondacc</th>\n",
              "      <th>rotbonds</th>\n",
              "      <th>mp</th>\n",
              "    </tr>\n",
              "  </thead>\n",
              "  <tbody>\n",
              "    <tr>\n",
              "      <th>count</th>\n",
              "      <td>4124.000000</td>\n",
              "      <td>4124.000000</td>\n",
              "      <td>4124.000000</td>\n",
              "      <td>4124.000000</td>\n",
              "      <td>4124.000000</td>\n",
              "      <td>4124.000000</td>\n",
              "      <td>4124.000000</td>\n",
              "      <td>4124.000000</td>\n",
              "      <td>4124.000000</td>\n",
              "    </tr>\n",
              "    <tr>\n",
              "      <th>mean</th>\n",
              "      <td>12848.391610</td>\n",
              "      <td>205.548213</td>\n",
              "      <td>39.627271</td>\n",
              "      <td>197.394421</td>\n",
              "      <td>13.581474</td>\n",
              "      <td>0.836324</td>\n",
              "      <td>2.248788</td>\n",
              "      <td>3.030553</td>\n",
              "      <td>76.484692</td>\n",
              "    </tr>\n",
              "    <tr>\n",
              "      <th>std</th>\n",
              "      <td>9698.527331</td>\n",
              "      <td>107.429120</td>\n",
              "      <td>34.445910</td>\n",
              "      <td>168.043547</td>\n",
              "      <td>6.928617</td>\n",
              "      <td>1.118334</td>\n",
              "      <td>1.950438</td>\n",
              "      <td>4.260615</td>\n",
              "      <td>102.786518</td>\n",
              "    </tr>\n",
              "    <tr>\n",
              "      <th>min</th>\n",
              "      <td>11.000000</td>\n",
              "      <td>16.043000</td>\n",
              "      <td>0.000000</td>\n",
              "      <td>0.000000</td>\n",
              "      <td>1.000000</td>\n",
              "      <td>0.000000</td>\n",
              "      <td>0.000000</td>\n",
              "      <td>0.000000</td>\n",
              "      <td>-218.400000</td>\n",
              "    </tr>\n",
              "    <tr>\n",
              "      <th>25%</th>\n",
              "      <td>7070.750000</td>\n",
              "      <td>135.160000</td>\n",
              "      <td>17.100000</td>\n",
              "      <td>90.275000</td>\n",
              "      <td>9.000000</td>\n",
              "      <td>0.000000</td>\n",
              "      <td>1.000000</td>\n",
              "      <td>0.000000</td>\n",
              "      <td>5.600000</td>\n",
              "    </tr>\n",
              "    <tr>\n",
              "      <th>50%</th>\n",
              "      <td>10706.500000</td>\n",
              "      <td>181.360000</td>\n",
              "      <td>34.500000</td>\n",
              "      <td>154.000000</td>\n",
              "      <td>12.000000</td>\n",
              "      <td>1.000000</td>\n",
              "      <td>2.000000</td>\n",
              "      <td>2.000000</td>\n",
              "      <td>76.400000</td>\n",
              "    </tr>\n",
              "    <tr>\n",
              "      <th>75%</th>\n",
              "      <td>15593.250000</td>\n",
              "      <td>251.305000</td>\n",
              "      <td>55.100000</td>\n",
              "      <td>254.250000</td>\n",
              "      <td>17.000000</td>\n",
              "      <td>1.000000</td>\n",
              "      <td>3.000000</td>\n",
              "      <td>4.000000</td>\n",
              "      <td>148.000000</td>\n",
              "    </tr>\n",
              "    <tr>\n",
              "      <th>max</th>\n",
              "      <td>60979.000000</td>\n",
              "      <td>1139.800000</td>\n",
              "      <td>332.000000</td>\n",
              "      <td>1910.000000</td>\n",
              "      <td>78.000000</td>\n",
              "      <td>13.000000</td>\n",
              "      <td>19.000000</td>\n",
              "      <td>53.000000</td>\n",
              "      <td>720.000000</td>\n",
              "    </tr>\n",
              "  </tbody>\n",
              "</table>\n",
              "</div>"
            ],
            "text/plain": [
              "                cid           mw  ...     rotbonds           mp\n",
              "count   4124.000000  4124.000000  ...  4124.000000  4124.000000\n",
              "mean   12848.391610   205.548213  ...     3.030553    76.484692\n",
              "std     9698.527331   107.429120  ...     4.260615   102.786518\n",
              "min       11.000000    16.043000  ...     0.000000  -218.400000\n",
              "25%     7070.750000   135.160000  ...     0.000000     5.600000\n",
              "50%    10706.500000   181.360000  ...     2.000000    76.400000\n",
              "75%    15593.250000   251.305000  ...     4.000000   148.000000\n",
              "max    60979.000000  1139.800000  ...    53.000000   720.000000\n",
              "\n",
              "[8 rows x 9 columns]"
            ]
          },
          "metadata": {},
          "execution_count": 13
        }
      ]
    },
    {
      "cell_type": "markdown",
      "metadata": {
        "id": "K0QDfS88TuiE"
      },
      "source": [
        "## Remove Outliers"
      ]
    },
    {
      "cell_type": "code",
      "metadata": {
        "colab": {
          "base_uri": "https://localhost:8080/",
          "height": 282
        },
        "id": "t3ih9rBSTuG5",
        "outputId": "1aa9f68b-d4a5-4dcd-c69a-25a74f8dc83e"
      },
      "source": [
        "data['mp'].hist(bins=500)"
      ],
      "execution_count": 14,
      "outputs": [
        {
          "output_type": "execute_result",
          "data": {
            "text/plain": [
              "<matplotlib.axes._subplots.AxesSubplot at 0x7f8745cad590>"
            ]
          },
          "metadata": {},
          "execution_count": 14
        },
        {
          "output_type": "display_data",
          "data": {
            "image/png": "[encoded data removed]",
            "text/plain": [
              "<Figure size 432x288 with 1 Axes>"
            ]
          },
          "metadata": {
            "needs_background": "light"
          }
        }
      ]
    },
    {
      "cell_type": "code",
      "metadata": {
        "colab": {
          "base_uri": "https://localhost:8080/",
          "height": 300
        },
        "id": "YMpeUM5TUFti",
        "outputId": "5de3841b-be57-467f-c370-8d5cd5da64d3"
      },
      "source": [
        "data = data[data['mp'] < 400].reset_index(drop=True)\n",
        "data.describe()"
      ],
      "execution_count": 16,
      "outputs": [
        {
          "output_type": "execute_result",
          "data": {
            "text/html": [
              "<div>\n",
              "<style scoped>\n",
              "    .dataframe tbody tr th:only-of-type {\n",
              "        vertical-align: middle;\n",
              "    }\n",
              "\n",
              "    .dataframe tbody tr th {\n",
              "        vertical-align: top;\n",
              "    }\n",
              "\n",
              "    .dataframe thead th {\n",
              "        text-align: right;\n",
              "    }\n",
              "</style>\n",
              "<table border=\"1\" class=\"dataframe\">\n",
              "  <thead>\n",
              "    <tr style=\"text-align: right;\">\n",
              "      <th></th>\n",
              "      <th>cid</th>\n",
              "      <th>mw</th>\n",
              "      <th>polararea</th>\n",
              "      <th>complexity</th>\n",
              "      <th>heavycnt</th>\n",
              "      <th>hbonddonor</th>\n",
              "      <th>hbondacc</th>\n",
              "      <th>rotbonds</th>\n",
              "      <th>mp</th>\n",
              "    </tr>\n",
              "  </thead>\n",
              "  <tbody>\n",
              "    <tr>\n",
              "      <th>count</th>\n",
              "      <td>4120.000000</td>\n",
              "      <td>4120.000000</td>\n",
              "      <td>4120.000000</td>\n",
              "      <td>4120.000000</td>\n",
              "      <td>4120.000000</td>\n",
              "      <td>4120.000000</td>\n",
              "      <td>4120.000000</td>\n",
              "      <td>4120.000000</td>\n",
              "      <td>4120.000000</td>\n",
              "    </tr>\n",
              "    <tr>\n",
              "      <th>mean</th>\n",
              "      <td>12854.223058</td>\n",
              "      <td>205.469298</td>\n",
              "      <td>39.643511</td>\n",
              "      <td>197.163421</td>\n",
              "      <td>13.572816</td>\n",
              "      <td>0.836650</td>\n",
              "      <td>2.249757</td>\n",
              "      <td>3.033495</td>\n",
              "      <td>76.061425</td>\n",
              "    </tr>\n",
              "    <tr>\n",
              "      <th>std</th>\n",
              "      <td>9700.806713</td>\n",
              "      <td>107.359576</td>\n",
              "      <td>34.450331</td>\n",
              "      <td>167.696223</td>\n",
              "      <td>6.916948</td>\n",
              "      <td>1.118502</td>\n",
              "      <td>1.950716</td>\n",
              "      <td>4.261636</td>\n",
              "      <td>101.860584</td>\n",
              "    </tr>\n",
              "    <tr>\n",
              "      <th>min</th>\n",
              "      <td>11.000000</td>\n",
              "      <td>16.043000</td>\n",
              "      <td>0.000000</td>\n",
              "      <td>0.000000</td>\n",
              "      <td>1.000000</td>\n",
              "      <td>0.000000</td>\n",
              "      <td>0.000000</td>\n",
              "      <td>0.000000</td>\n",
              "      <td>-218.400000</td>\n",
              "    </tr>\n",
              "    <tr>\n",
              "      <th>25%</th>\n",
              "      <td>7070.750000</td>\n",
              "      <td>135.160000</td>\n",
              "      <td>17.100000</td>\n",
              "      <td>90.275000</td>\n",
              "      <td>9.000000</td>\n",
              "      <td>0.000000</td>\n",
              "      <td>1.000000</td>\n",
              "      <td>0.000000</td>\n",
              "      <td>5.600000</td>\n",
              "    </tr>\n",
              "    <tr>\n",
              "      <th>50%</th>\n",
              "      <td>10708.500000</td>\n",
              "      <td>181.275000</td>\n",
              "      <td>34.950000</td>\n",
              "      <td>154.000000</td>\n",
              "      <td>12.000000</td>\n",
              "      <td>1.000000</td>\n",
              "      <td>2.000000</td>\n",
              "      <td>2.000000</td>\n",
              "      <td>76.000000</td>\n",
              "    </tr>\n",
              "    <tr>\n",
              "      <th>75%</th>\n",
              "      <td>15601.000000</td>\n",
              "      <td>251.252500</td>\n",
              "      <td>55.100000</td>\n",
              "      <td>254.000000</td>\n",
              "      <td>17.000000</td>\n",
              "      <td>1.000000</td>\n",
              "      <td>3.000000</td>\n",
              "      <td>4.000000</td>\n",
              "      <td>148.000000</td>\n",
              "    </tr>\n",
              "    <tr>\n",
              "      <th>max</th>\n",
              "      <td>60979.000000</td>\n",
              "      <td>1139.800000</td>\n",
              "      <td>332.000000</td>\n",
              "      <td>1910.000000</td>\n",
              "      <td>78.000000</td>\n",
              "      <td>13.000000</td>\n",
              "      <td>19.000000</td>\n",
              "      <td>53.000000</td>\n",
              "      <td>390.000000</td>\n",
              "    </tr>\n",
              "  </tbody>\n",
              "</table>\n",
              "</div>"
            ],
            "text/plain": [
              "                cid           mw  ...     rotbonds           mp\n",
              "count   4120.000000  4120.000000  ...  4120.000000  4120.000000\n",
              "mean   12854.223058   205.469298  ...     3.033495    76.061425\n",
              "std     9700.806713   107.359576  ...     4.261636   101.860584\n",
              "min       11.000000    16.043000  ...     0.000000  -218.400000\n",
              "25%     7070.750000   135.160000  ...     0.000000     5.600000\n",
              "50%    10708.500000   181.275000  ...     2.000000    76.000000\n",
              "75%    15601.000000   251.252500  ...     4.000000   148.000000\n",
              "max    60979.000000  1139.800000  ...    53.000000   390.000000\n",
              "\n",
              "[8 rows x 9 columns]"
            ]
          },
          "metadata": {},
          "execution_count": 16
        }
      ]
    },
    {
      "cell_type": "code",
      "metadata": {
        "id": "MjxDZ5_NUUgi"
      },
      "source": [
        "data.to_csv('/content/gdrive/MyDrive/Data/mp/organic_clean.csv', index=False)"
      ],
      "execution_count": 17,
      "outputs": []
    }
  ]
}